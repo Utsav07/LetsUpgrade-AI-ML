{
 "cells": [
  {
   "cell_type": "markdown",
   "metadata": {},
   "source": [
    "#### Question 1 :\n",
    "Research on whether addition, subtraction, multiplication, division, floor division and modulo\n",
    "operations be performed on complex numbers. Based on your study, implement a Python\n",
    "program to demonstrate these operations."
   ]
  },
  {
   "cell_type": "code",
   "execution_count": 1,
   "metadata": {},
   "outputs": [
    {
     "name": "stdout",
     "output_type": "stream",
     "text": [
      "Enter first point co-ordinates:\n",
      "10\n",
      "5\n",
      "Enter second point co-ordinates:\n",
      "2\n",
      "1\n",
      "Addition is :  (12+6j)\n",
      "Subtraction is :  (8+4j)\n",
      "Multiplication is :  (15+20j)\n",
      "Division is :  (5+0j)\n"
     ]
    }
   ],
   "source": [
    "print(\"Enter first point co-ordinates:\")\n",
    "x1 = int(input())\n",
    "y1 = int(input())\n",
    "print(\"Enter second point co-ordinates:\")\n",
    "x2 = int(input())\n",
    "y2 = int(input())\n",
    "a = complex(x1, y1) \n",
    "b = complex(x2, y2) \n",
    "add = a + b\n",
    "sub = a-b\n",
    "mul = a*b\n",
    "div = a/b\n",
    "print(\"Addition is : \", add) \n",
    "print(\"Subtraction is : \", sub) \n",
    "print(\"Multiplication is : \", mul) \n",
    "print(\"Division is : \", div) \n",
    "\n",
    "##Can't perform floor and modulo operation on complex numbers "
   ]
  },
  {
   "cell_type": "markdown",
   "metadata": {},
   "source": [
    "#### Question 2 :\n",
    "Research on range() functions and its parameters. Create a markdown cell and write in your own\n",
    "words (no copy-paste from google please) what you understand about it. Implement a small\n",
    "program of your choice on the same."
   ]
  },
  {
   "cell_type": "markdown",
   "metadata": {},
   "source": [
    "###### range() function has 3 parameters: start, stop and step.\n",
    "###### range() function can be performed even without start and step as only parameter stop is manadatory.\n",
    "###### We can have a positively as well as a negatively increasing sequence by altering the step value.\n",
    "###### It is mainly used to create a sequence of numbers in the form of a list which can then be iterated over with loops."
   ]
  },
  {
   "cell_type": "code",
   "execution_count": 2,
   "metadata": {},
   "outputs": [
    {
     "name": "stdout",
     "output_type": "stream",
     "text": [
      "20\n",
      "18\n",
      "16\n",
      "14\n",
      "12\n",
      "10\n",
      "8\n",
      "6\n"
     ]
    }
   ],
   "source": [
    "a = range(20,4,-2)\n",
    "for item in a:\n",
    "    print(item)"
   ]
  },
  {
   "cell_type": "markdown",
   "metadata": {},
   "source": [
    "#### Question 3:\n",
    "Consider two numbers. Perform their subtraction and if the result of subtraction is greater than\n",
    "25, print their multiplication result else print their division result"
   ]
  },
  {
   "cell_type": "code",
   "execution_count": 3,
   "metadata": {},
   "outputs": [
    {
     "name": "stdout",
     "output_type": "stream",
     "text": [
      "35\n",
      "9\n",
      "The result is: 315\n"
     ]
    }
   ],
   "source": [
    "a = int(input())\n",
    "b = int(input())\n",
    "if abs(a-b)>25:\n",
    "    result = a*b\n",
    "else:\n",
    "    result = a/b\n",
    "print(\"The result is:\",result)"
   ]
  },
  {
   "cell_type": "code",
   "execution_count": 4,
   "metadata": {},
   "outputs": [
    {
     "name": "stdout",
     "output_type": "stream",
     "text": [
      "36\n",
      "12\n",
      "The result is: 3.0\n"
     ]
    }
   ],
   "source": [
    "a = int(input())\n",
    "b = int(input())\n",
    "if abs(a-b)>25:\n",
    "    result = a*b\n",
    "else:\n",
    "    result = a/b\n",
    "print(\"The result is:\",result)"
   ]
  },
  {
   "cell_type": "markdown",
   "metadata": {},
   "source": [
    "#### Question 4:\n",
    "Consider a list of 10 elements of integer values. If the number in the list is divisible by 2, print the\n",
    "result as \"square of that number minus 2\"."
   ]
  },
  {
   "cell_type": "code",
   "execution_count": 5,
   "metadata": {},
   "outputs": [
    {
     "name": "stdout",
     "output_type": "stream",
     "text": [
      "Please enter a number: 1\n",
      "Please enter a number: 2\n",
      "Please enter a number: 3\n",
      "Please enter a number: 4\n",
      "Please enter a number: 5\n",
      "Please enter a number: 6\n",
      "Please enter a number: 7\n",
      "Please enter a number: 8\n",
      "Please enter a number: 9\n",
      "Please enter a number: 10\n",
      "Square of 2 minus 2: 2\n",
      "Square of 4 minus 2: 14\n",
      "Square of 6 minus 2: 34\n",
      "Square of 8 minus 2: 62\n",
      "Square of 10 minus 2: 98\n"
     ]
    }
   ],
   "source": [
    "mylist = []\n",
    "for i in range(10):\n",
    "    num = int(input('Please enter a number: '))\n",
    "    mylist.append(num)\n",
    "for i in mylist:\n",
    "    if i%2 == 0:\n",
    "        print(\"Square of {} minus 2: \".format(i) + str(i**2-2))"
   ]
  },
  {
   "cell_type": "markdown",
   "metadata": {},
   "source": [
    "#### Question 5:\n",
    "Consider a list of 10 elements. Print all the elements in the list which are greater than 7 when that\n",
    "number is divided 2."
   ]
  },
  {
   "cell_type": "code",
   "execution_count": 6,
   "metadata": {},
   "outputs": [
    {
     "name": "stdout",
     "output_type": "stream",
     "text": [
      "Please enter a number: 7\n",
      "Please enter a number: 14\n",
      "Please enter a number: 15\n",
      "Please enter a number: 16\n",
      "Please enter a number: 13\n",
      "Please enter a number: 12\n",
      "Please enter a number: 20\n",
      "Please enter a number: 10\n",
      "Please enter a number: 9\n",
      "Please enter a number: 8\n",
      "The result is:  [15, 16, 20]\n"
     ]
    }
   ],
   "source": [
    "mylist = []\n",
    "result = []\n",
    "for i in range(10):\n",
    "    num = int(input('Please enter a number: '))\n",
    "    mylist.append(num)\n",
    "for i in mylist:\n",
    "    if i/2 > 7:\n",
    "        result.append(i)\n",
    "print(\"The result is: \", result)"
   ]
  }
 ],
 "metadata": {
  "kernelspec": {
   "display_name": "Python 3",
   "language": "python",
   "name": "python3"
  },
  "language_info": {
   "codemirror_mode": {
    "name": "ipython",
    "version": 3
   },
   "file_extension": ".py",
   "mimetype": "text/x-python",
   "name": "python",
   "nbconvert_exporter": "python",
   "pygments_lexer": "ipython3",
   "version": "3.7.6"
  }
 },
 "nbformat": 4,
 "nbformat_minor": 4
}
