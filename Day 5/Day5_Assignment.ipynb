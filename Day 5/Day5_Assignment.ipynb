{
 "cells": [
  {
   "cell_type": "markdown",
   "metadata": {},
   "source": [
    "#### Question 1 :\n",
    "Write a Python program to find the first 20 non-even prime natural numbers"
   ]
  },
  {
   "cell_type": "code",
   "execution_count": 1,
   "metadata": {},
   "outputs": [
    {
     "name": "stdout",
     "output_type": "stream",
     "text": [
      "The first 20 non-even prime natural numbers are:\n",
      "3 5 7 11 13 17 19 23 29 31 37 41 43 47 53 59 61 67 71 73 "
     ]
    }
   ],
   "source": [
    "status = 1\n",
    "num = 3\n",
    "i = 0\n",
    "print('The first 20 non-even prime natural numbers are:')\n",
    "while i!=20:\n",
    "    for j in range(2,num):\n",
    "        if(num%j == 0):\n",
    "            status = 0\n",
    "            break\n",
    "    if status!=0:\n",
    "        print(num, end=' ')\n",
    "        i+=1\n",
    "    status = 1\n",
    "    num+=1"
   ]
  },
  {
   "cell_type": "markdown",
   "metadata": {},
   "source": [
    "#### Question 2 :\n",
    "Write a Python program to implement 15 functions of string."
   ]
  },
  {
   "cell_type": "code",
   "execution_count": 2,
   "metadata": {},
   "outputs": [
    {
     "name": "stdout",
     "output_type": "stream",
     "text": [
      "China : The String is alphanumeric.\n",
      "\n",
      "1974 : The String contains only digits.\n",
      "\n",
      "Australia : String contains only alphabetic characters.\n",
      "\n",
      "    : String contains only whitespace characters.\n",
      "\n",
      "JAPAN : All letters in the string are uppercase.\n",
      "\n",
      "India 1974 : Convert String in lowercase: india 1974 \n",
      "\n",
      "India 1974 : Convert String in uppercase: INDIA 1974 \n",
      "\n",
      "\n",
      "Left Strip: India 1974\n",
      "\n",
      "################## Find Method ##################\n",
      "2\n",
      "-1\n",
      "5\n",
      "-1\n",
      "0\n",
      "\n",
      "Right Strip: America 1974     \n",
      "\n",
      "################## Replace Method ##################\n",
      "Hello Russia\n",
      "\n",
      "Strip from both side : America 1974\n",
      "\n",
      "Strip with Character A: merica Russia Japan China\n",
      "Strip with Character a: America Russia Japan Chin\n",
      "\n",
      "endswith check whether a string ends with a specified substring\n",
      "True\n",
      "False\n",
      "\n",
      "startswith check if a string starts with a specified substring\n",
      "True\n",
      "False\n"
     ]
    }
   ],
   "source": [
    "user_string1 = \"China\"\n",
    "if user_string1.isalnum():\n",
    "    print(user_string1, ': The String is alphanumeric.\\n')\n",
    " \n",
    "user_string2 = \"1974\"\n",
    "if user_string2.isdigit():\n",
    "    print(user_string2, ': The String contains only digits.\\n')\n",
    " \n",
    "user_string3 = \"Australia\"\n",
    "if user_string3.isalpha():\n",
    "    print(user_string3, ': String contains only alphabetic characters.\\n')\n",
    " \n",
    "user_string4 = \"   \"\n",
    "if user_string4.isspace():\n",
    "    print(user_string4, ': String contains only whitespace characters.\\n')\n",
    " \n",
    "user_string5 = \"JAPAN\"\n",
    "if user_string5.isupper():\n",
    "    print(user_string5, ': All letters in the string are uppercase.\\n')\n",
    " \n",
    "user_string6 = \"Australia 1974\"\n",
    "if user_string6.islower():\n",
    "    print(user_string6, ': All letters in the string are lowercase.\\n')\n",
    " \n",
    "user_string7 = \"India 1974\"\n",
    "toLower = user_string7.lower()\n",
    "print(user_string7, ': Convert String in lowercase:', toLower, '\\n')\n",
    " \n",
    "toUpper = user_string7.upper()\n",
    "print(user_string7, ': Convert String in uppercase:', toUpper, '\\n')\n",
    " \n",
    "user_string8 = \"   India 1974\"\n",
    "print('\\nLeft Strip:', user_string8.lstrip())\n",
    " \n",
    "print('\\n################## Find Method ##################')\n",
    "user_string9 = \"Columbia\"\n",
    "print(user_string9.find('lumbia'))\n",
    "print(user_string9.find('colbia'))\n",
    "print(user_string9.find('bia'))\n",
    "print(user_string9.find('col'))\n",
    "print(user_string9.find('Col'))\n",
    " \n",
    "user_string10 = \"America 1974     \"\n",
    "print('\\nRight Strip:', user_string10.rstrip('A'))\n",
    " \n",
    "print('\\n################## Replace Method ##################')\n",
    "user_string11 = \"Hello Columbia\"\n",
    "old = \"Columbia\"\n",
    "new = \"Russia\"\n",
    "print(user_string11.replace(old, new))\n",
    "\n",
    "user_string12 = \"   America 1974    \"\n",
    "print('\\nStrip from both side :', user_string12.strip())\n",
    " \n",
    "user_string13 = \"America Russia Japan China\"\n",
    "print('\\nStrip with Character A:', user_string13.strip('A'))\n",
    "print('Strip with Character a:', user_string13.strip('a'))\n",
    " \n",
    "print('\\nendswith check whether a string ends with a specified substring')\n",
    "user_string14 = \"Columbia\"\n",
    "print(user_string14.endswith('bia'))\n",
    "print(user_string14.endswith('mia'))\n",
    "\n",
    "print('\\nstartswith check if a string starts with a specified substring')\n",
    "user_string15 = \"Columbia\"\n",
    "print(user_string15.startswith('Colum'))\n",
    "print(user_string15.startswith('Rolum'))"
   ]
  },
  {
   "cell_type": "markdown",
   "metadata": {},
   "source": [
    "#### Question 3:\n",
    "Write a Python program to check if the given string is a Palindrome or Anagram or None of them.\n",
    "Display the message accordingly to the user."
   ]
  },
  {
   "cell_type": "code",
   "execution_count": 3,
   "metadata": {},
   "outputs": [
    {
     "name": "stdout",
     "output_type": "stream",
     "text": [
      "Please enter a string: radar\n",
      "Entered string is a palindrome\n",
      "Please enter a string: rraad\n",
      "Entered string is not a palindrome\n",
      "The two entered strings are anagrams\n"
     ]
    }
   ],
   "source": [
    "string1 = str(input('Please enter a string: '))\n",
    "if string1 == string1[::-1]:\n",
    "    print(\"Entered string is a palindrome\")\n",
    "else:\n",
    "    print(\"Entered string is not a palindrome\")\n",
    "string2 = str(input('Please enter a string: '))\n",
    "if string2 == string2[::-1]:\n",
    "    print(\"Entered string is a palindrome\")\n",
    "else:\n",
    "    print(\"Entered string is not a palindrome\")\n",
    "if sorted(string1) == sorted(string2):\n",
    "    print(\"The two entered strings are anagrams\")\n",
    "else:\n",
    "    print(\"The two entered strings are not anagrams\")"
   ]
  },
  {
   "cell_type": "code",
   "execution_count": 4,
   "metadata": {},
   "outputs": [
    {
     "name": "stdout",
     "output_type": "stream",
     "text": [
      "Please enter a string: wow\n",
      "Entered string is a palindrome\n",
      "Please enter a string: eye\n",
      "Entered string is a palindrome\n",
      "The two entered strings are not anagrams\n"
     ]
    }
   ],
   "source": [
    "string1 = str(input('Please enter a string: '))\n",
    "if string1 == string1[::-1]:\n",
    "    print(\"Entered string is a palindrome\")\n",
    "else:\n",
    "    print(\"Entered string is not a palindrome\")\n",
    "string2 = str(input('Please enter a string: '))\n",
    "if string2 == string2[::-1]:\n",
    "    print(\"Entered string is a palindrome\")\n",
    "else:\n",
    "    print(\"Entered string is not a palindrome\")\n",
    "if sorted(string1) == sorted(string2):\n",
    "    print(\"The two entered strings are anagrams\")\n",
    "else:\n",
    "    print(\"The two entered strings are not anagrams\")"
   ]
  },
  {
   "cell_type": "markdown",
   "metadata": {},
   "source": [
    "#### Question 4:\n",
    "Write a Python's user defined function that removes all the additional characters from the string\n",
    "and converts it finally to lower case using built-in lower(). eg: If the string is \"Dr. Darshan Ingle\n",
    "@AI-ML Trainer\", then the output be \"drdarshaningleaimltrainer\"."
   ]
  },
  {
   "cell_type": "code",
   "execution_count": 5,
   "metadata": {},
   "outputs": [
    {
     "name": "stdout",
     "output_type": "stream",
     "text": [
      "Please enter a string: Dr. Darshan Ingle @AI-ML Trainer\n",
      "drdarshaningleaimltrainer\n"
     ]
    }
   ],
   "source": [
    "string = str(input('Please enter a string: '))\n",
    "only_alpha = ''\n",
    "if string.isalpha() == True:\n",
    "    print(string)\n",
    "else:\n",
    "    for char in string:\n",
    "        if ord(char) >= 65 and ord(char) <= 90:\n",
    "            only_alpha += char\n",
    "        elif ord(char) >= 97 and ord(char) <= 122:\n",
    "            only_alpha += char\n",
    "result = only_alpha.lower()\n",
    "print(result)"
   ]
  }
 ],
 "metadata": {
  "kernelspec": {
   "display_name": "Python 3",
   "language": "python",
   "name": "python3"
  },
  "language_info": {
   "codemirror_mode": {
    "name": "ipython",
    "version": 3
   },
   "file_extension": ".py",
   "mimetype": "text/x-python",
   "name": "python",
   "nbconvert_exporter": "python",
   "pygments_lexer": "ipython3",
   "version": "3.7.6"
  }
 },
 "nbformat": 4,
 "nbformat_minor": 4
}
