{
 "cells": [
  {
   "cell_type": "code",
   "execution_count": 1,
   "metadata": {},
   "outputs": [
    {
     "name": "stdout",
     "output_type": "stream",
     "text": [
      "Enter first point co-ordinates:\n",
      "10\n",
      "5\n",
      "Enter second point co-ordinates:\n",
      "3\n",
      "4\n",
      "Subtraction is :  (7+1j)\n"
     ]
    }
   ],
   "source": [
    "#Question 1 :\n",
    "#Write a program to subtract two complex numbers in Python.\n",
    "\n",
    "print(\"Enter first point co-ordinates:\")\n",
    "x1 = int(input())\n",
    "y1 = int(input())\n",
    "print(\"Enter second point co-ordinates:\")\n",
    "x2 = int(input())\n",
    "y2 = int(input())\n",
    "a = complex(x1, y1) \n",
    "b = complex(x2, y2) \n",
    "c = a - b\n",
    "print(\"Subtraction is : \", c) "
   ]
  },
  {
   "cell_type": "code",
   "execution_count": 2,
   "metadata": {},
   "outputs": [
    {
     "name": "stdout",
     "output_type": "stream",
     "text": [
      "81\n",
      "3.0\n"
     ]
    }
   ],
   "source": [
    "#Question 2 :\n",
    "#Write a program to find the fourth root of a number.\n",
    "\n",
    "a = int(input())\n",
    "root_4 = pow(a,1/4)\n",
    "print(root_4)"
   ]
  },
  {
   "cell_type": "code",
   "execution_count": 3,
   "metadata": {},
   "outputs": [
    {
     "name": "stdout",
     "output_type": "stream",
     "text": [
      "7\n",
      "5\n",
      "Before swapping:\n",
      "a = 7\n",
      "b = 5\n",
      "After swapping:\n",
      "a = 5\n",
      "b = 7\n"
     ]
    }
   ],
   "source": [
    "#Question 3:\n",
    "#Write a program to swap two numbers in Python with the help of a temporary variable.\n",
    "\n",
    "a = input()\n",
    "b = input()\n",
    "print(\"Before swapping:\")\n",
    "print(\"a =\",a)\n",
    "print(\"b =\",b)\n",
    "c = a\n",
    "a = b\n",
    "b = c\n",
    "print(\"After swapping:\")\n",
    "print(\"a =\",a)\n",
    "print(\"b =\",b)"
   ]
  },
  {
   "cell_type": "code",
   "execution_count": 4,
   "metadata": {},
   "outputs": [
    {
     "name": "stdout",
     "output_type": "stream",
     "text": [
      "9\n",
      "7\n",
      "Before swapping:\n",
      "a = 9\n",
      "b = 7\n",
      "After swapping:\n",
      "a = 7\n",
      "b = 9\n"
     ]
    }
   ],
   "source": [
    "#Question 4:\n",
    "#Write a program to swap two numbers in Python without using a temporary variable\n",
    "\n",
    "a = int(input())\n",
    "b = int(input())\n",
    "print(\"Before swapping:\")\n",
    "print(\"a =\",a)\n",
    "print(\"b =\",b)\n",
    "a = a+b\n",
    "b = a-b\n",
    "a = a-b\n",
    "print(\"After swapping:\")\n",
    "print(\"a =\",a)\n",
    "print(\"b =\",b)"
   ]
  },
  {
   "cell_type": "code",
   "execution_count": 5,
   "metadata": {},
   "outputs": [
    {
     "name": "stdout",
     "output_type": "stream",
     "text": [
      "Enter Fahrenheit:\n",
      "100\n",
      "Kelvin: 311.27777777777777\n",
      "Celsius: 37.77777777777778\n"
     ]
    }
   ],
   "source": [
    "#Question 5:\n",
    "#Write a program to convert fahrenheit to kelvin and celsius both.\n",
    "\n",
    "print(\"Enter Fahrenheit:\")\n",
    "F = float(input())\n",
    "K = 273.5 + ((F - 32) * (5/9))\n",
    "C = (F - 32)/1.8\n",
    "print(\"Kelvin:\", K)\n",
    "print(\"Celsius:\", C)"
   ]
  },
  {
   "cell_type": "code",
   "execution_count": 6,
   "metadata": {},
   "outputs": [
    {
     "name": "stdout",
     "output_type": "stream",
     "text": [
      "<class 'int'>\n",
      "<class 'str'>\n",
      "<class 'float'>\n",
      "<class 'complex'>\n",
      "<class 'list'>\n",
      "<class 'tuple'>\n",
      "<class 'dict'>\n",
      "<class 'set'>\n"
     ]
    }
   ],
   "source": [
    "#Question 6:\n",
    "#Write a program to demonstrate all the available data types in Python. Hint: Use type() function\n",
    "\n",
    "a = 5\n",
    "print(type(a))\n",
    "b = 'Hello, World!'\n",
    "print(type(b))\n",
    "c = 100.05\n",
    "print(type(c))\n",
    "d = 1 + 2j\n",
    "print(type(d))\n",
    "e = [1,2,3,4]\n",
    "print(type(e))\n",
    "f = (10,20,30)\n",
    "print(type(f))\n",
    "g = {'fruit':'banana','vegatable':'potato'}\n",
    "print(type(g))\n",
    "h = {1,5,10,15}\n",
    "print(type(h))"
   ]
  },
  {
   "cell_type": "markdown",
   "metadata": {},
   "source": [
    "### Steps to create Github Profile and upload the assignment link\n",
    "\n",
    "1. Create project/assignment folder in your local machine\n",
    "2. Load the github url and create a profile(if you dont have one, create one by signing up with your existing gmail account)\n",
    "3. Click on New button\n",
    "4. Name the repository as LetsUpgrade AI-ML\n",
    "5. Upload your project/assignment folder by drag-drop option\n",
    "6. Click on commit changes\n",
    "7. Open the LetsUpgrade project/assignment submission form(upgrade team will upload the drive link)\n",
    "8. Fill the email, and other required fields\n",
    "9. Copy paste the github url where you uploaded the project/assignment folder in your github\n",
    "10. Click on submit."
   ]
  }
 ],
 "metadata": {
  "kernelspec": {
   "display_name": "Python 3",
   "language": "python",
   "name": "python3"
  },
  "language_info": {
   "codemirror_mode": {
    "name": "ipython",
    "version": 3
   },
   "file_extension": ".py",
   "mimetype": "text/x-python",
   "name": "python",
   "nbconvert_exporter": "python",
   "pygments_lexer": "ipython3",
   "version": "3.7.6"
  }
 },
 "nbformat": 4,
 "nbformat_minor": 4
}
