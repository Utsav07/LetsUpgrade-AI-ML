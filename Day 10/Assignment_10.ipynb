{
 "cells": [
  {
   "cell_type": "markdown",
   "metadata": {},
   "source": [
    "Statement 1:\n",
    "People in the middle age(30-40) are more likely to be attritted."
   ]
  },
  {
   "cell_type": "markdown",
   "metadata": {},
   "source": [
    "Statement 2:\n",
    "People with degrees in medical and sciences are more likely to be attritted."
   ]
  },
  {
   "cell_type": "markdown",
   "metadata": {},
   "source": [
    "Statement 3:\n",
    "HR people are least likely to be attritted. "
   ]
  },
  {
   "cell_type": "markdown",
   "metadata": {},
   "source": [
    "Statement 4:\n",
    "People with rare business travels may be attritted. (Less efficiency of these poeple hence less travel opportunities)"
   ]
  },
  {
   "cell_type": "markdown",
   "metadata": {},
   "source": [
    "Statement 5:\n",
    "Males more likely to be attritted. "
   ]
  },
  {
   "cell_type": "markdown",
   "metadata": {},
   "source": [
    "Statement 6:\n",
    "People with less number of job switches are more likely to be attritted. (Cross domain and company expertise)"
   ]
  },
  {
   "cell_type": "markdown",
   "metadata": {},
   "source": [
    "Statement 7:\n",
    "People with experience of < 5 years is much likely to be attritted than a person with experience of >10 years. (Experience matters!)"
   ]
  },
  {
   "cell_type": "markdown",
   "metadata": {},
   "source": [
    "Statement 8:\n",
    "People who have stayed at the same company for a longer duration are less likely to be attritted. (Company Loyalty)"
   ]
  },
  {
   "cell_type": "markdown",
   "metadata": {},
   "source": [
    "Statement 9:\n",
    "Relationship with the current manager for a longer duration helps. "
   ]
  },
  {
   "cell_type": "markdown",
   "metadata": {},
   "source": [
    "Statement 10:\n",
    "People travelling from far-off distance are less likely to be attritted."
   ]
  }
 ],
 "metadata": {
  "kernelspec": {
   "display_name": "Python 3",
   "language": "python",
   "name": "python3"
  },
  "language_info": {
   "codemirror_mode": {
    "name": "ipython",
    "version": 3
   },
   "file_extension": ".py",
   "mimetype": "text/x-python",
   "name": "python",
   "nbconvert_exporter": "python",
   "pygments_lexer": "ipython3",
   "version": "3.7.6"
  }
 },
 "nbformat": 4,
 "nbformat_minor": 4
}
